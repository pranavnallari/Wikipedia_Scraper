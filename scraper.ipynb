{
 "cells": [
  {
   "cell_type": "code",
   "execution_count": 1,
   "id": "6f9f0de9-222f-45ad-a7ef-668cf7dd44dc",
   "metadata": {},
   "outputs": [],
   "source": [
    "from selenium import webdriver\n",
    "from selenium.webdriver.chrome.service import Service\n",
    "from selenium.webdriver.common.by import By"
   ]
  },
  {
   "cell_type": "code",
   "execution_count": 2,
   "id": "ce55598a-de25-4da7-80cf-cf154d823657",
   "metadata": {},
   "outputs": [],
   "source": [
    "from settings import CHROMEDRIVER_PATH, WIKIPEDIA_URL"
   ]
  },
  {
   "cell_type": "code",
   "execution_count": 3,
   "id": "e13a479c-b830-49ac-ba12-ff9fa62727bd",
   "metadata": {},
   "outputs": [],
   "source": [
    "service = Service(executable_path=CHROMEDRIVER_PATH)"
   ]
  },
  {
   "cell_type": "code",
   "execution_count": 4,
   "id": "23be2bd1-6f90-40e1-a94a-ecf4c785aa4d",
   "metadata": {},
   "outputs": [],
   "source": [
    "driver = webdriver.Chrome(service=service)"
   ]
  },
  {
   "cell_type": "code",
   "execution_count": 5,
   "id": "d6ee9111-d9da-4bcc-be72-e0b7723a020c",
   "metadata": {},
   "outputs": [],
   "source": [
    "driver.get(WIKIPEDIA_URL)"
   ]
  },
  {
   "cell_type": "code",
   "execution_count": 6,
   "id": "b5b7b337-6e3b-4df6-9d26-a1ac7e58b153",
   "metadata": {},
   "outputs": [],
   "source": [
    "TFA_CSS_LOCATOR = 'div#mp-tfa'\n",
    "ITN_CSS_LOCATOR = 'div#mp-itn'\n",
    "DYK_CSS_LOCATOR = 'div#mp-dyk'\n",
    "OTD_CSS_LOCATOR = 'div#mp-otd'\n",
    "\n",
    "locator_list = [TFA_CSS_LOCATOR, ITN_CSS_LOCATOR, DYK_CSS_LOCATOR, OTD_CSS_LOCATOR]"
   ]
  },
  {
   "cell_type": "code",
   "execution_count": 7,
   "id": "0c06e463-3abc-4bb7-bd01-1becaa032f68",
   "metadata": {},
   "outputs": [],
   "source": [
    "link_dictionary = {}"
   ]
  },
  {
   "cell_type": "code",
   "execution_count": 14,
   "id": "931ae294-fd06-4792-8bd7-e87e99f41f7e",
   "metadata": {},
   "outputs": [],
   "source": [
    "for locator in locator_list:\n",
    "    div_element = driver.find_element(By.CSS_SELECTOR, locator)\n",
    "    info_list = []\n",
    "    for link in div_element.find_elements(By.TAG_NAME, 'a'):\n",
    "         info_dict = {\n",
    "             'title':link.get_attribute('title'),\n",
    "            'text':link.text,\n",
    "            'href':link.get_attribute('href')}\n",
    "         info_list.append(info_dict)\n",
    "    link_dictionary[locator] = info_list"
   ]
  },
  {
   "cell_type": "code",
   "execution_count": 16,
   "id": "51e644e6-1430-4e49-9f8f-211fc9e56771",
   "metadata": {},
   "outputs": [
    {
     "name": "stdout",
     "output_type": "stream",
     "text": [
      "div#mp-tfa --- 22 links\n",
      "div#mp-itn --- 24 links\n",
      "div#mp-dyk --- 22 links\n",
      "div#mp-otd --- 35 links\n"
     ]
    }
   ],
   "source": [
    "for key, value in link_dictionary.items():\n",
    "    print(f'{key} --- {len(value)} links')"
   ]
  },
  {
   "cell_type": "code",
   "execution_count": 17,
   "id": "49b7a00e-557e-454c-92d7-531688822b0d",
   "metadata": {},
   "outputs": [],
   "source": [
    "driver.quit()"
   ]
  },
  {
   "cell_type": "code",
   "execution_count": null,
   "id": "96bf7721-501e-4888-b938-275dd84d634e",
   "metadata": {},
   "outputs": [],
   "source": []
  }
 ],
 "metadata": {
  "kernelspec": {
   "display_name": "Python 3 (ipykernel)",
   "language": "python",
   "name": "python3"
  },
  "language_info": {
   "codemirror_mode": {
    "name": "ipython",
    "version": 3
   },
   "file_extension": ".py",
   "mimetype": "text/x-python",
   "name": "python",
   "nbconvert_exporter": "python",
   "pygments_lexer": "ipython3",
   "version": "3.11.5"
  }
 },
 "nbformat": 4,
 "nbformat_minor": 5
}
